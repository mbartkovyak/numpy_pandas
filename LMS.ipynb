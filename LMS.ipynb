{
 "cells": [
  {
   "cell_type": "markdown",
   "source": [
    "Imports"
   ],
   "metadata": {
    "collapsed": false
   },
   "id": "3dd3fd6eb309b3ba"
  },
  {
   "cell_type": "code",
   "execution_count": 141,
   "id": "initial_id",
   "metadata": {
    "collapsed": true,
    "ExecuteTime": {
     "end_time": "2024-03-12T20:07:52.859103Z",
     "start_time": "2024-03-12T20:07:52.854756Z"
    }
   },
   "outputs": [],
   "source": [
    "import numpy as np\n",
    "import pandas as pd\n",
    "import matplotlib.pyplot as plt"
   ]
  },
  {
   "cell_type": "markdown",
   "source": [
    "1. Load the dataset into a Pandas DataFrame."
   ],
   "metadata": {
    "collapsed": false
   },
   "id": "f6053a683a7536d0"
  },
  {
   "cell_type": "code",
   "outputs": [],
   "source": [
    "df = pd.read_csv('restaurants_reviews.csv')"
   ],
   "metadata": {
    "collapsed": false,
    "ExecuteTime": {
     "end_time": "2024-03-12T20:07:53.030488Z",
     "start_time": "2024-03-12T20:07:53.019493Z"
    }
   },
   "id": "c230b6c183699690",
   "execution_count": 142
  },
  {
   "cell_type": "markdown",
   "source": [
    "2. Display the first 10 rows of the dataset."
   ],
   "metadata": {
    "collapsed": false
   },
   "id": "cc444998e262be5c"
  },
  {
   "cell_type": "code",
   "outputs": [
    {
     "data": {
      "text/plain": "   id                         restaurant_name      reviewer_name  \\\n0   0                             PPUH Furgał      Ewelina Majak   \n1   1             Gabinety Krzywoń-Sajda S.A.       Julita Łapaj   \n2   2  Fundacja Słowiak-Łuckiewicz Sp. z o.o.   Cyprian Janowiak   \n3   3                             Szuta Sp.k.         Ignacy Baś   \n4   4                     Spółdzielnia Engler  Kazimierz Kurzyna   \n\n                                       reviewer_text  rating date_of_visit  \\\n0  Pierwiastek Chemiczny gwiazda jedzenie słońce ...     NaN    2021-09-06   \n1  Uznawać ubranie bezpośrednio szeroki dwanaście...     4.0    2020-02-10   \n2  Uderzyć wszelki słaby muzyka czuć. Handlowy ch...     3.0    2022-12-30   \n3  Skłonność dokonywać potrzeba złożyć. Dzielnica...     4.0    2022-07-21   \n4  Pełnić kiedyś umieszczać informacja gatunek we...     3.0    2021-02-12   \n\n       location  \n0     Piaseczno  \n1  Stalowa Wola  \n2         Luboń  \n3    Sandomierz  \n4      Lubartów  ",
      "text/html": "<div>\n<style scoped>\n    .dataframe tbody tr th:only-of-type {\n        vertical-align: middle;\n    }\n\n    .dataframe tbody tr th {\n        vertical-align: top;\n    }\n\n    .dataframe thead th {\n        text-align: right;\n    }\n</style>\n<table border=\"1\" class=\"dataframe\">\n  <thead>\n    <tr style=\"text-align: right;\">\n      <th></th>\n      <th>id</th>\n      <th>restaurant_name</th>\n      <th>reviewer_name</th>\n      <th>reviewer_text</th>\n      <th>rating</th>\n      <th>date_of_visit</th>\n      <th>location</th>\n    </tr>\n  </thead>\n  <tbody>\n    <tr>\n      <th>0</th>\n      <td>0</td>\n      <td>PPUH Furgał</td>\n      <td>Ewelina Majak</td>\n      <td>Pierwiastek Chemiczny gwiazda jedzenie słońce ...</td>\n      <td>NaN</td>\n      <td>2021-09-06</td>\n      <td>Piaseczno</td>\n    </tr>\n    <tr>\n      <th>1</th>\n      <td>1</td>\n      <td>Gabinety Krzywoń-Sajda S.A.</td>\n      <td>Julita Łapaj</td>\n      <td>Uznawać ubranie bezpośrednio szeroki dwanaście...</td>\n      <td>4.0</td>\n      <td>2020-02-10</td>\n      <td>Stalowa Wola</td>\n    </tr>\n    <tr>\n      <th>2</th>\n      <td>2</td>\n      <td>Fundacja Słowiak-Łuckiewicz Sp. z o.o.</td>\n      <td>Cyprian Janowiak</td>\n      <td>Uderzyć wszelki słaby muzyka czuć. Handlowy ch...</td>\n      <td>3.0</td>\n      <td>2022-12-30</td>\n      <td>Luboń</td>\n    </tr>\n    <tr>\n      <th>3</th>\n      <td>3</td>\n      <td>Szuta Sp.k.</td>\n      <td>Ignacy Baś</td>\n      <td>Skłonność dokonywać potrzeba złożyć. Dzielnica...</td>\n      <td>4.0</td>\n      <td>2022-07-21</td>\n      <td>Sandomierz</td>\n    </tr>\n    <tr>\n      <th>4</th>\n      <td>4</td>\n      <td>Spółdzielnia Engler</td>\n      <td>Kazimierz Kurzyna</td>\n      <td>Pełnić kiedyś umieszczać informacja gatunek we...</td>\n      <td>3.0</td>\n      <td>2021-02-12</td>\n      <td>Lubartów</td>\n    </tr>\n  </tbody>\n</table>\n</div>"
     },
     "execution_count": 143,
     "metadata": {},
     "output_type": "execute_result"
    }
   ],
   "source": [
    "df.head()"
   ],
   "metadata": {
    "collapsed": false,
    "ExecuteTime": {
     "end_time": "2024-03-12T20:07:53.044074Z",
     "start_time": "2024-03-12T20:07:53.032597Z"
    }
   },
   "id": "cf4037bcf5008b21",
   "execution_count": 143
  },
  {
   "cell_type": "markdown",
   "source": [
    "3. Print the summary statistics for the numerical columns."
   ],
   "metadata": {
    "collapsed": false
   },
   "id": "86b7d14b7500e234"
  },
  {
   "cell_type": "code",
   "outputs": [
    {
     "data": {
      "text/plain": "            index      rating\ncount  500.000000  495.000000\nmean   249.500000    2.995960\nstd    144.481833    1.398374\nmin      0.000000    1.000000\n25%    124.750000    2.000000\n50%    249.500000    3.000000\n75%    374.250000    4.000000\nmax    499.000000    5.000000",
      "text/html": "<div>\n<style scoped>\n    .dataframe tbody tr th:only-of-type {\n        vertical-align: middle;\n    }\n\n    .dataframe tbody tr th {\n        vertical-align: top;\n    }\n\n    .dataframe thead th {\n        text-align: right;\n    }\n</style>\n<table border=\"1\" class=\"dataframe\">\n  <thead>\n    <tr style=\"text-align: right;\">\n      <th></th>\n      <th>index</th>\n      <th>rating</th>\n    </tr>\n  </thead>\n  <tbody>\n    <tr>\n      <th>count</th>\n      <td>500.000000</td>\n      <td>495.000000</td>\n    </tr>\n    <tr>\n      <th>mean</th>\n      <td>249.500000</td>\n      <td>2.995960</td>\n    </tr>\n    <tr>\n      <th>std</th>\n      <td>144.481833</td>\n      <td>1.398374</td>\n    </tr>\n    <tr>\n      <th>min</th>\n      <td>0.000000</td>\n      <td>1.000000</td>\n    </tr>\n    <tr>\n      <th>25%</th>\n      <td>124.750000</td>\n      <td>2.000000</td>\n    </tr>\n    <tr>\n      <th>50%</th>\n      <td>249.500000</td>\n      <td>3.000000</td>\n    </tr>\n    <tr>\n      <th>75%</th>\n      <td>374.250000</td>\n      <td>4.000000</td>\n    </tr>\n    <tr>\n      <th>max</th>\n      <td>499.000000</td>\n      <td>5.000000</td>\n    </tr>\n  </tbody>\n</table>\n</div>"
     },
     "execution_count": 144,
     "metadata": {},
     "output_type": "execute_result"
    }
   ],
   "source": [
    "df.reset_index(inplace=True)\n",
    "df.set_index('id', inplace=True)\n",
    "df.describe()"
   ],
   "metadata": {
    "collapsed": false,
    "ExecuteTime": {
     "end_time": "2024-03-12T20:07:53.113630Z",
     "start_time": "2024-03-12T20:07:53.099954Z"
    }
   },
   "id": "998d77dc8445a51f",
   "execution_count": 144
  },
  {
   "cell_type": "markdown",
   "source": [
    "4. Check for any missing values and handle them appropriately."
   ],
   "metadata": {
    "collapsed": false
   },
   "id": "7b8e4aa732b3dac"
  },
  {
   "cell_type": "code",
   "outputs": [],
   "source": [
    "df.dropna(subset=['rating'], inplace=True)"
   ],
   "metadata": {
    "collapsed": false,
    "ExecuteTime": {
     "end_time": "2024-03-12T20:07:53.163271Z",
     "start_time": "2024-03-12T20:07:53.157417Z"
    }
   },
   "id": "d06447ef070101d8",
   "execution_count": 145
  },
  {
   "cell_type": "markdown",
   "source": [
    "5. Ensure all ratings are within the 1 to 5 range."
   ],
   "metadata": {
    "collapsed": false
   },
   "id": "25c114e351d3b863"
  },
  {
   "cell_type": "code",
   "outputs": [],
   "source": [
    "df = df[(df['rating'] >= 1) & (df['rating'] <= 5)]"
   ],
   "metadata": {
    "collapsed": false,
    "ExecuteTime": {
     "end_time": "2024-03-12T20:07:53.227668Z",
     "start_time": "2024-03-12T20:07:53.221100Z"
    }
   },
   "id": "c534468ceeb9e78b",
   "execution_count": 146
  },
  {
   "cell_type": "markdown",
   "source": [
    "Feature Engineering: 6. Create a new column \"Review Length\" that represents the number of words in the review text."
   ],
   "metadata": {
    "collapsed": false
   },
   "id": "2f685accb756c32c"
  },
  {
   "cell_type": "code",
   "outputs": [
    {
     "data": {
      "text/plain": "    index                         restaurant_name      reviewer_name  \\\nid                                                                     \n1       1             Gabinety Krzywoń-Sajda S.A.       Julita Łapaj   \n2       2  Fundacja Słowiak-Łuckiewicz Sp. z o.o.   Cyprian Janowiak   \n3       3                             Szuta Sp.k.         Ignacy Baś   \n4       4                     Spółdzielnia Engler  Kazimierz Kurzyna   \n5       5                              Kopij S.A.    pan Borys Knych   \n\n                                        reviewer_text  rating date_of_visit  \\\nid                                                                            \n1   Uznawać ubranie bezpośrednio szeroki dwanaście...     4.0    2020-02-10   \n2   Uderzyć wszelki słaby muzyka czuć. Handlowy ch...     3.0    2022-12-30   \n3   Skłonność dokonywać potrzeba złożyć. Dzielnica...     4.0    2022-07-21   \n4   Pełnić kiedyś umieszczać informacja gatunek we...     3.0    2021-02-12   \n5   Dziki świeży ściana dyskusja utrzymywać. Muzyk...     3.0    2020-08-28   \n\n        location  reviewer_length  \nid                                 \n1   Stalowa Wola               18  \n2          Luboń               17  \n3     Sandomierz               22  \n4       Lubartów               13  \n5          Chełm               14  ",
      "text/html": "<div>\n<style scoped>\n    .dataframe tbody tr th:only-of-type {\n        vertical-align: middle;\n    }\n\n    .dataframe tbody tr th {\n        vertical-align: top;\n    }\n\n    .dataframe thead th {\n        text-align: right;\n    }\n</style>\n<table border=\"1\" class=\"dataframe\">\n  <thead>\n    <tr style=\"text-align: right;\">\n      <th></th>\n      <th>index</th>\n      <th>restaurant_name</th>\n      <th>reviewer_name</th>\n      <th>reviewer_text</th>\n      <th>rating</th>\n      <th>date_of_visit</th>\n      <th>location</th>\n      <th>reviewer_length</th>\n    </tr>\n    <tr>\n      <th>id</th>\n      <th></th>\n      <th></th>\n      <th></th>\n      <th></th>\n      <th></th>\n      <th></th>\n      <th></th>\n      <th></th>\n    </tr>\n  </thead>\n  <tbody>\n    <tr>\n      <th>1</th>\n      <td>1</td>\n      <td>Gabinety Krzywoń-Sajda S.A.</td>\n      <td>Julita Łapaj</td>\n      <td>Uznawać ubranie bezpośrednio szeroki dwanaście...</td>\n      <td>4.0</td>\n      <td>2020-02-10</td>\n      <td>Stalowa Wola</td>\n      <td>18</td>\n    </tr>\n    <tr>\n      <th>2</th>\n      <td>2</td>\n      <td>Fundacja Słowiak-Łuckiewicz Sp. z o.o.</td>\n      <td>Cyprian Janowiak</td>\n      <td>Uderzyć wszelki słaby muzyka czuć. Handlowy ch...</td>\n      <td>3.0</td>\n      <td>2022-12-30</td>\n      <td>Luboń</td>\n      <td>17</td>\n    </tr>\n    <tr>\n      <th>3</th>\n      <td>3</td>\n      <td>Szuta Sp.k.</td>\n      <td>Ignacy Baś</td>\n      <td>Skłonność dokonywać potrzeba złożyć. Dzielnica...</td>\n      <td>4.0</td>\n      <td>2022-07-21</td>\n      <td>Sandomierz</td>\n      <td>22</td>\n    </tr>\n    <tr>\n      <th>4</th>\n      <td>4</td>\n      <td>Spółdzielnia Engler</td>\n      <td>Kazimierz Kurzyna</td>\n      <td>Pełnić kiedyś umieszczać informacja gatunek we...</td>\n      <td>3.0</td>\n      <td>2021-02-12</td>\n      <td>Lubartów</td>\n      <td>13</td>\n    </tr>\n    <tr>\n      <th>5</th>\n      <td>5</td>\n      <td>Kopij S.A.</td>\n      <td>pan Borys Knych</td>\n      <td>Dziki świeży ściana dyskusja utrzymywać. Muzyk...</td>\n      <td>3.0</td>\n      <td>2020-08-28</td>\n      <td>Chełm</td>\n      <td>14</td>\n    </tr>\n  </tbody>\n</table>\n</div>"
     },
     "execution_count": 147,
     "metadata": {},
     "output_type": "execute_result"
    }
   ],
   "source": [
    "df['reviewer_length'] = df['reviewer_text'].apply(lambda text: len(str(text).split()))\n",
    "df.head()"
   ],
   "metadata": {
    "collapsed": false,
    "ExecuteTime": {
     "end_time": "2024-03-12T20:07:53.464643Z",
     "start_time": "2024-03-12T20:07:53.450357Z"
    }
   },
   "id": "433dce9c4892ba15",
   "execution_count": 147
  },
  {
   "cell_type": "markdown",
   "source": [
    "7. Find the average rating for each restaurant and display the top 10 highest-rated restaurants."
   ],
   "metadata": {
    "collapsed": false
   },
   "id": "fc2dc23007c5b008"
  },
  {
   "cell_type": "code",
   "outputs": [
    {
     "data": {
      "text/plain": "index\n499    5.0\n298    5.0\n303    5.0\n305    5.0\n99     5.0\n319    5.0\n323    5.0\n329    5.0\n330    5.0\n90     5.0\nName: rating, dtype: float64"
     },
     "execution_count": 148,
     "metadata": {},
     "output_type": "execute_result"
    }
   ],
   "source": [
    "df.groupby('index')['rating'].mean().sort_values(ascending=False).head(10)"
   ],
   "metadata": {
    "collapsed": false,
    "ExecuteTime": {
     "end_time": "2024-03-12T20:07:53.505532Z",
     "start_time": "2024-03-12T20:07:53.497229Z"
    }
   },
   "id": "b10accda00a7dac5",
   "execution_count": 148
  },
  {
   "cell_type": "markdown",
   "source": [
    "8. Identify the 5 most frequent reviewers and the average rating they give."
   ],
   "metadata": {
    "collapsed": false
   },
   "id": "c3e0d5b16fb8fa73"
  },
  {
   "cell_type": "code",
   "outputs": [
    {
     "data": {
      "text/plain": "                     review_count    rating\nreviewer_name                              \npan Wojciech Wasiuk            30  2.900000\nErnest Sędek                   25  2.880000\nKarina Wolff                   24  3.250000\nCyprian Janowiak               24  3.166667\nEwelina Majak                  22  2.863636",
      "text/html": "<div>\n<style scoped>\n    .dataframe tbody tr th:only-of-type {\n        vertical-align: middle;\n    }\n\n    .dataframe tbody tr th {\n        vertical-align: top;\n    }\n\n    .dataframe thead th {\n        text-align: right;\n    }\n</style>\n<table border=\"1\" class=\"dataframe\">\n  <thead>\n    <tr style=\"text-align: right;\">\n      <th></th>\n      <th>review_count</th>\n      <th>rating</th>\n    </tr>\n    <tr>\n      <th>reviewer_name</th>\n      <th></th>\n      <th></th>\n    </tr>\n  </thead>\n  <tbody>\n    <tr>\n      <th>pan Wojciech Wasiuk</th>\n      <td>30</td>\n      <td>2.900000</td>\n    </tr>\n    <tr>\n      <th>Ernest Sędek</th>\n      <td>25</td>\n      <td>2.880000</td>\n    </tr>\n    <tr>\n      <th>Karina Wolff</th>\n      <td>24</td>\n      <td>3.250000</td>\n    </tr>\n    <tr>\n      <th>Cyprian Janowiak</th>\n      <td>24</td>\n      <td>3.166667</td>\n    </tr>\n    <tr>\n      <th>Ewelina Majak</th>\n      <td>22</td>\n      <td>2.863636</td>\n    </tr>\n  </tbody>\n</table>\n</div>"
     },
     "execution_count": 149,
     "metadata": {},
     "output_type": "execute_result"
    }
   ],
   "source": [
    "frequency = df['reviewer_name'].value_counts().rename('review_count')\n",
    "average_rating_per_reviewer = df.groupby('reviewer_name')['rating'].mean()\n",
    "\n",
    "combined_data = pd.concat([frequency, average_rating_per_reviewer], axis=1).sort_values(by='review_count', ascending=False).head(5)\n",
    "combined_data.head()"
   ],
   "metadata": {
    "collapsed": false,
    "ExecuteTime": {
     "end_time": "2024-03-12T20:07:53.793901Z",
     "start_time": "2024-03-12T20:07:53.779617Z"
    }
   },
   "id": "c856b37979eec063",
   "execution_count": 149
  },
  {
   "cell_type": "markdown",
   "source": [
    "9. Calculate the average rating per month to see if there is a trend over time."
   ],
   "metadata": {
    "collapsed": false
   },
   "id": "4ad26a961d72b5e2"
  },
  {
   "cell_type": "code",
   "outputs": [
    {
     "data": {
      "text/plain": "reviewer_name\npan Wojciech Wasiuk     30\nErnest Sędek            25\nKarina Wolff            24\nCyprian Janowiak        24\nEwelina Majak           22\nIgnacy Baś              21\npan Borys Knych         21\nJulita Łapaj            19\nKlara Sabała            19\nAlan Hejna              19\nNorbert Maciuszek       18\nPrzemysław Proch        17\npan Alex Karwot         17\npan Konrad Misztela     17\nMarianna Kiliszek       16\nEliza Więckiewicz       16\nMalwina Wielądek        15\npani Angelika Fedak     15\nMarcelina Szymańczyk    14\nKazimierz Kurzyna       14\nSzymon Kurnik           13\nNorbert Majewicz        13\npan Karol Gordon        12\nStanisław Majtyka       12\nJózef Szklarek          12\nRafał Wołos             11\nIgnacy Buchholz         11\npani Roksana Hutnik     10\nKamila Bodych            9\npani Inga Radko          9\nName: count, dtype: int64"
     },
     "execution_count": 150,
     "metadata": {},
     "output_type": "execute_result"
    }
   ],
   "source": [
    "df['reviewer_name'].value_counts().head(500)"
   ],
   "metadata": {
    "collapsed": false,
    "ExecuteTime": {
     "end_time": "2024-03-12T20:07:53.918900Z",
     "start_time": "2024-03-12T20:07:53.911741Z"
    }
   },
   "id": "4d165bf02734d5ae",
   "execution_count": 150
  },
  {
   "cell_type": "markdown",
   "source": [
    "10. Find the restaurant with the most reviews."
   ],
   "metadata": {
    "collapsed": false
   },
   "id": "ba43d7214802df3d"
  },
  {
   "cell_type": "code",
   "outputs": [
    {
     "data": {
      "text/plain": "restaurant_name\nZarzeczna Sp.k.    11\nName: count, dtype: int64"
     },
     "execution_count": 151,
     "metadata": {},
     "output_type": "execute_result"
    }
   ],
   "source": [
    "df['restaurant_name'].value_counts().head(1)"
   ],
   "metadata": {
    "collapsed": false,
    "ExecuteTime": {
     "end_time": "2024-03-12T20:07:54.215258Z",
     "start_time": "2024-03-12T20:07:54.205487Z"
    }
   },
   "id": "c81ba8cc2b755781",
   "execution_count": 151
  },
  {
   "cell_type": "markdown",
   "source": [
    "11. Determine the city with the highest average rating."
   ],
   "metadata": {
    "collapsed": false
   },
   "id": "89ee2377cf20c603"
  },
  {
   "cell_type": "code",
   "outputs": [
    {
     "data": {
      "text/plain": "restaurant_name\nSpółdzielnia Cierpisz Sp.k.    5.0\nName: rating, dtype: float64"
     },
     "execution_count": 152,
     "metadata": {},
     "output_type": "execute_result"
    }
   ],
   "source": [
    "df.groupby('restaurant_name')['rating'].mean().sort_values(ascending=False).head(1)"
   ],
   "metadata": {
    "collapsed": false,
    "ExecuteTime": {
     "end_time": "2024-03-12T20:07:54.422909Z",
     "start_time": "2024-03-12T20:07:54.414570Z"
    }
   },
   "id": "a85c8cfa6023c7bd",
   "execution_count": 152
  },
  {
   "cell_type": "markdown",
   "source": [
    "12. Plot the distribution of ratings across all reviews."
   ],
   "metadata": {
    "collapsed": false
   },
   "id": "b2c59c808b7b871f"
  },
  {
   "cell_type": "code",
   "outputs": [
    {
     "data": {
      "text/plain": "Text(0, 0.5, 'Frequency')"
     },
     "execution_count": 153,
     "metadata": {},
     "output_type": "execute_result"
    },
    {
     "data": {
      "text/plain": "<Figure size 640x480 with 1 Axes>",
      "image/png": "[encoded data removed]"
     },
     "metadata": {},
     "output_type": "display_data"
    }
   ],
   "source": [
    "df['rating'].plot.hist(alpha=1, color='b', edgecolor='black')\n",
    "plt.title('Reviews Distribution')\n",
    "plt.xlabel('Value')\n",
    "plt.ylabel('Frequency')"
   ],
   "metadata": {
    "collapsed": false,
    "ExecuteTime": {
     "end_time": "2024-03-12T20:07:54.844661Z",
     "start_time": "2024-03-12T20:07:54.676848Z"
    }
   },
   "id": "d9256d0fa2538faf",
   "execution_count": 153
  },
  {
   "cell_type": "markdown",
   "source": [
    "13. Create a time series plot showing the average rating per month."
   ],
   "metadata": {
    "collapsed": false
   },
   "id": "e7ef92a8e8366ceb"
  },
  {
   "cell_type": "code",
   "outputs": [
    {
     "data": {
      "text/plain": "     index                         restaurant_name      reviewer_name  \\\nid                                                                      \n1        1             Gabinety Krzywoń-Sajda S.A.       Julita Łapaj   \n2        2  Fundacja Słowiak-Łuckiewicz Sp. z o.o.   Cyprian Janowiak   \n3        3                             Szuta Sp.k.         Ignacy Baś   \n4        4                     Spółdzielnia Engler  Kazimierz Kurzyna   \n5        5                              Kopij S.A.    pan Borys Knych   \n..     ...                                     ...                ...   \n495    495                      Gabinety Seta S.A.   Przemysław Proch   \n496    496                        FPUH Leśna Sp.k.    pan Alex Karwot   \n497    497              PPUH Fikus-Balawender s.c.   Cyprian Janowiak   \n498    498                    Baś-Mojsa i syn s.c.       Karina Wolff   \n499    499                      Grabias Sp. z o.o.  Stanisław Majtyka   \n\n                                         reviewer_text  rating date_of_visit  \\\nid                                                                             \n1    Uznawać ubranie bezpośrednio szeroki dwanaście...     4.0    2020-02-10   \n2    Uderzyć wszelki słaby muzyka czuć. Handlowy ch...     3.0    2022-12-30   \n3    Skłonność dokonywać potrzeba złożyć. Dzielnica...     4.0    2022-07-21   \n4    Pełnić kiedyś umieszczać informacja gatunek we...     3.0    2021-02-12   \n5    Dziki świeży ściana dyskusja utrzymywać. Muzyk...     3.0    2020-08-28   \n..                                                 ...     ...           ...   \n495  Japoński ciężar polityka wybuch piłka nożna pr...     3.0    2021-11-25   \n496  Śpiewać metalowy mój mowa kij. Szczególny hand...     2.0    2023-11-17   \n497  Głupek marka rezultat dziedzina szkodliwy. Rob...     1.0    2020-05-14   \n498  Sukienka cierpienie wzór właściwość stolica. N...     5.0    2023-01-21   \n499  Wyrażenie konstrukcja ubogi przy. Władca wyglą...     5.0    2020-02-20   \n\n         location  reviewer_length  \nid                                  \n1    Stalowa Wola               18  \n2           Luboń               17  \n3      Sandomierz               22  \n4        Lubartów               13  \n5           Chełm               14  \n..            ...              ...  \n495        Kraków               22  \n496         Radom               16  \n497  Starachowice               10  \n498       Mikołów               13  \n499        Krosno               23  \n\n[495 rows x 8 columns]",
      "text/html": "<div>\n<style scoped>\n    .dataframe tbody tr th:only-of-type {\n        vertical-align: middle;\n    }\n\n    .dataframe tbody tr th {\n        vertical-align: top;\n    }\n\n    .dataframe thead th {\n        text-align: right;\n    }\n</style>\n<table border=\"1\" class=\"dataframe\">\n  <thead>\n    <tr style=\"text-align: right;\">\n      <th></th>\n      <th>index</th>\n      <th>restaurant_name</th>\n      <th>reviewer_name</th>\n      <th>reviewer_text</th>\n      <th>rating</th>\n      <th>date_of_visit</th>\n      <th>location</th>\n      <th>reviewer_length</th>\n    </tr>\n    <tr>\n      <th>id</th>\n      <th></th>\n      <th></th>\n      <th></th>\n      <th></th>\n      <th></th>\n      <th></th>\n      <th></th>\n      <th></th>\n    </tr>\n  </thead>\n  <tbody>\n    <tr>\n      <th>1</th>\n      <td>1</td>\n      <td>Gabinety Krzywoń-Sajda S.A.</td>\n      <td>Julita Łapaj</td>\n      <td>Uznawać ubranie bezpośrednio szeroki dwanaście...</td>\n      <td>4.0</td>\n      <td>2020-02-10</td>\n      <td>Stalowa Wola</td>\n      <td>18</td>\n    </tr>\n    <tr>\n      <th>2</th>\n      <td>2</td>\n      <td>Fundacja Słowiak-Łuckiewicz Sp. z o.o.</td>\n      <td>Cyprian Janowiak</td>\n      <td>Uderzyć wszelki słaby muzyka czuć. Handlowy ch...</td>\n      <td>3.0</td>\n      <td>2022-12-30</td>\n      <td>Luboń</td>\n      <td>17</td>\n    </tr>\n    <tr>\n      <th>3</th>\n      <td>3</td>\n      <td>Szuta Sp.k.</td>\n      <td>Ignacy Baś</td>\n      <td>Skłonność dokonywać potrzeba złożyć. Dzielnica...</td>\n      <td>4.0</td>\n      <td>2022-07-21</td>\n      <td>Sandomierz</td>\n      <td>22</td>\n    </tr>\n    <tr>\n      <th>4</th>\n      <td>4</td>\n      <td>Spółdzielnia Engler</td>\n      <td>Kazimierz Kurzyna</td>\n      <td>Pełnić kiedyś umieszczać informacja gatunek we...</td>\n      <td>3.0</td>\n      <td>2021-02-12</td>\n      <td>Lubartów</td>\n      <td>13</td>\n    </tr>\n    <tr>\n      <th>5</th>\n      <td>5</td>\n      <td>Kopij S.A.</td>\n      <td>pan Borys Knych</td>\n      <td>Dziki świeży ściana dyskusja utrzymywać. Muzyk...</td>\n      <td>3.0</td>\n      <td>2020-08-28</td>\n      <td>Chełm</td>\n      <td>14</td>\n    </tr>\n    <tr>\n      <th>...</th>\n      <td>...</td>\n      <td>...</td>\n      <td>...</td>\n      <td>...</td>\n      <td>...</td>\n      <td>...</td>\n      <td>...</td>\n      <td>...</td>\n    </tr>\n    <tr>\n      <th>495</th>\n      <td>495</td>\n      <td>Gabinety Seta S.A.</td>\n      <td>Przemysław Proch</td>\n      <td>Japoński ciężar polityka wybuch piłka nożna pr...</td>\n      <td>3.0</td>\n      <td>2021-11-25</td>\n      <td>Kraków</td>\n      <td>22</td>\n    </tr>\n    <tr>\n      <th>496</th>\n      <td>496</td>\n      <td>FPUH Leśna Sp.k.</td>\n      <td>pan Alex Karwot</td>\n      <td>Śpiewać metalowy mój mowa kij. Szczególny hand...</td>\n      <td>2.0</td>\n      <td>2023-11-17</td>\n      <td>Radom</td>\n      <td>16</td>\n    </tr>\n    <tr>\n      <th>497</th>\n      <td>497</td>\n      <td>PPUH Fikus-Balawender s.c.</td>\n      <td>Cyprian Janowiak</td>\n      <td>Głupek marka rezultat dziedzina szkodliwy. Rob...</td>\n      <td>1.0</td>\n      <td>2020-05-14</td>\n      <td>Starachowice</td>\n      <td>10</td>\n    </tr>\n    <tr>\n      <th>498</th>\n      <td>498</td>\n      <td>Baś-Mojsa i syn s.c.</td>\n      <td>Karina Wolff</td>\n      <td>Sukienka cierpienie wzór właściwość stolica. N...</td>\n      <td>5.0</td>\n      <td>2023-01-21</td>\n      <td>Mikołów</td>\n      <td>13</td>\n    </tr>\n    <tr>\n      <th>499</th>\n      <td>499</td>\n      <td>Grabias Sp. z o.o.</td>\n      <td>Stanisław Majtyka</td>\n      <td>Wyrażenie konstrukcja ubogi przy. Władca wyglą...</td>\n      <td>5.0</td>\n      <td>2020-02-20</td>\n      <td>Krosno</td>\n      <td>23</td>\n    </tr>\n  </tbody>\n</table>\n<p>495 rows × 8 columns</p>\n</div>"
     },
     "execution_count": 154,
     "metadata": {},
     "output_type": "execute_result"
    }
   ],
   "source": [
    "df"
   ],
   "metadata": {
    "collapsed": false,
    "ExecuteTime": {
     "end_time": "2024-03-12T20:07:54.860498Z",
     "start_time": "2024-03-12T20:07:54.846523Z"
    }
   },
   "id": "d606f64258f675d9",
   "execution_count": 154
  },
  {
   "cell_type": "code",
   "outputs": [
    {
     "data": {
      "text/plain": "               index                         restaurant_name  \\\ndate_of_visit                                                  \n2020-02-10         1             Gabinety Krzywoń-Sajda S.A.   \n2022-12-30         2  Fundacja Słowiak-Łuckiewicz Sp. z o.o.   \n2022-07-21         3                             Szuta Sp.k.   \n2021-02-12         4                     Spółdzielnia Engler   \n2020-08-28         5                              Kopij S.A.   \n...              ...                                     ...   \n2021-11-25       495                      Gabinety Seta S.A.   \n2023-11-17       496                        FPUH Leśna Sp.k.   \n2020-05-14       497              PPUH Fikus-Balawender s.c.   \n2023-01-21       498                    Baś-Mojsa i syn s.c.   \n2020-02-20       499                      Grabias Sp. z o.o.   \n\n                   reviewer_name  \\\ndate_of_visit                      \n2020-02-10          Julita Łapaj   \n2022-12-30      Cyprian Janowiak   \n2022-07-21            Ignacy Baś   \n2021-02-12     Kazimierz Kurzyna   \n2020-08-28       pan Borys Knych   \n...                          ...   \n2021-11-25      Przemysław Proch   \n2023-11-17       pan Alex Karwot   \n2020-05-14      Cyprian Janowiak   \n2023-01-21          Karina Wolff   \n2020-02-20     Stanisław Majtyka   \n\n                                                   reviewer_text  rating  \\\ndate_of_visit                                                              \n2020-02-10     Uznawać ubranie bezpośrednio szeroki dwanaście...     4.0   \n2022-12-30     Uderzyć wszelki słaby muzyka czuć. Handlowy ch...     3.0   \n2022-07-21     Skłonność dokonywać potrzeba złożyć. Dzielnica...     4.0   \n2021-02-12     Pełnić kiedyś umieszczać informacja gatunek we...     3.0   \n2020-08-28     Dziki świeży ściana dyskusja utrzymywać. Muzyk...     3.0   \n...                                                          ...     ...   \n2021-11-25     Japoński ciężar polityka wybuch piłka nożna pr...     3.0   \n2023-11-17     Śpiewać metalowy mój mowa kij. Szczególny hand...     2.0   \n2020-05-14     Głupek marka rezultat dziedzina szkodliwy. Rob...     1.0   \n2023-01-21     Sukienka cierpienie wzór właściwość stolica. N...     5.0   \n2020-02-20     Wyrażenie konstrukcja ubogi przy. Władca wyglą...     5.0   \n\n                   location  reviewer_length  \ndate_of_visit                                 \n2020-02-10     Stalowa Wola               18  \n2022-12-30            Luboń               17  \n2022-07-21       Sandomierz               22  \n2021-02-12         Lubartów               13  \n2020-08-28            Chełm               14  \n...                     ...              ...  \n2021-11-25           Kraków               22  \n2023-11-17            Radom               16  \n2020-05-14     Starachowice               10  \n2023-01-21          Mikołów               13  \n2020-02-20           Krosno               23  \n\n[495 rows x 7 columns]",
      "text/html": "<div>\n<style scoped>\n    .dataframe tbody tr th:only-of-type {\n        vertical-align: middle;\n    }\n\n    .dataframe tbody tr th {\n        vertical-align: top;\n    }\n\n    .dataframe thead th {\n        text-align: right;\n    }\n</style>\n<table border=\"1\" class=\"dataframe\">\n  <thead>\n    <tr style=\"text-align: right;\">\n      <th></th>\n      <th>index</th>\n      <th>restaurant_name</th>\n      <th>reviewer_name</th>\n      <th>reviewer_text</th>\n      <th>rating</th>\n      <th>location</th>\n      <th>reviewer_length</th>\n    </tr>\n    <tr>\n      <th>date_of_visit</th>\n      <th></th>\n      <th></th>\n      <th></th>\n      <th></th>\n      <th></th>\n      <th></th>\n      <th></th>\n    </tr>\n  </thead>\n  <tbody>\n    <tr>\n      <th>2020-02-10</th>\n      <td>1</td>\n      <td>Gabinety Krzywoń-Sajda S.A.</td>\n      <td>Julita Łapaj</td>\n      <td>Uznawać ubranie bezpośrednio szeroki dwanaście...</td>\n      <td>4.0</td>\n      <td>Stalowa Wola</td>\n      <td>18</td>\n    </tr>\n    <tr>\n      <th>2022-12-30</th>\n      <td>2</td>\n      <td>Fundacja Słowiak-Łuckiewicz Sp. z o.o.</td>\n      <td>Cyprian Janowiak</td>\n      <td>Uderzyć wszelki słaby muzyka czuć. Handlowy ch...</td>\n      <td>3.0</td>\n      <td>Luboń</td>\n      <td>17</td>\n    </tr>\n    <tr>\n      <th>2022-07-21</th>\n      <td>3</td>\n      <td>Szuta Sp.k.</td>\n      <td>Ignacy Baś</td>\n      <td>Skłonność dokonywać potrzeba złożyć. Dzielnica...</td>\n      <td>4.0</td>\n      <td>Sandomierz</td>\n      <td>22</td>\n    </tr>\n    <tr>\n      <th>2021-02-12</th>\n      <td>4</td>\n      <td>Spółdzielnia Engler</td>\n      <td>Kazimierz Kurzyna</td>\n      <td>Pełnić kiedyś umieszczać informacja gatunek we...</td>\n      <td>3.0</td>\n      <td>Lubartów</td>\n      <td>13</td>\n    </tr>\n    <tr>\n      <th>2020-08-28</th>\n      <td>5</td>\n      <td>Kopij S.A.</td>\n      <td>pan Borys Knych</td>\n      <td>Dziki świeży ściana dyskusja utrzymywać. Muzyk...</td>\n      <td>3.0</td>\n      <td>Chełm</td>\n      <td>14</td>\n    </tr>\n    <tr>\n      <th>...</th>\n      <td>...</td>\n      <td>...</td>\n      <td>...</td>\n      <td>...</td>\n      <td>...</td>\n      <td>...</td>\n      <td>...</td>\n    </tr>\n    <tr>\n      <th>2021-11-25</th>\n      <td>495</td>\n      <td>Gabinety Seta S.A.</td>\n      <td>Przemysław Proch</td>\n      <td>Japoński ciężar polityka wybuch piłka nożna pr...</td>\n      <td>3.0</td>\n      <td>Kraków</td>\n      <td>22</td>\n    </tr>\n    <tr>\n      <th>2023-11-17</th>\n      <td>496</td>\n      <td>FPUH Leśna Sp.k.</td>\n      <td>pan Alex Karwot</td>\n      <td>Śpiewać metalowy mój mowa kij. Szczególny hand...</td>\n      <td>2.0</td>\n      <td>Radom</td>\n      <td>16</td>\n    </tr>\n    <tr>\n      <th>2020-05-14</th>\n      <td>497</td>\n      <td>PPUH Fikus-Balawender s.c.</td>\n      <td>Cyprian Janowiak</td>\n      <td>Głupek marka rezultat dziedzina szkodliwy. Rob...</td>\n      <td>1.0</td>\n      <td>Starachowice</td>\n      <td>10</td>\n    </tr>\n    <tr>\n      <th>2023-01-21</th>\n      <td>498</td>\n      <td>Baś-Mojsa i syn s.c.</td>\n      <td>Karina Wolff</td>\n      <td>Sukienka cierpienie wzór właściwość stolica. N...</td>\n      <td>5.0</td>\n      <td>Mikołów</td>\n      <td>13</td>\n    </tr>\n    <tr>\n      <th>2020-02-20</th>\n      <td>499</td>\n      <td>Grabias Sp. z o.o.</td>\n      <td>Stanisław Majtyka</td>\n      <td>Wyrażenie konstrukcja ubogi przy. Władca wyglą...</td>\n      <td>5.0</td>\n      <td>Krosno</td>\n      <td>23</td>\n    </tr>\n  </tbody>\n</table>\n<p>495 rows × 7 columns</p>\n</div>"
     },
     "execution_count": 155,
     "metadata": {},
     "output_type": "execute_result"
    }
   ],
   "source": [
    "# Set 'date_of_visit' as the index and convert to datetime if it hasn't been done yet\n",
    "df['date_of_visit'] = pd.to_datetime(df['date_of_visit'])\n",
    "df.set_index('date_of_visit', inplace=True)\n",
    "df"
   ],
   "metadata": {
    "collapsed": false,
    "ExecuteTime": {
     "end_time": "2024-03-12T20:07:54.878712Z",
     "start_time": "2024-03-12T20:07:54.862033Z"
    }
   },
   "id": "76a6be2e52e180e3",
   "execution_count": 155
  },
  {
   "cell_type": "code",
   "outputs": [
    {
     "data": {
      "text/plain": "<Figure size 640x480 with 1 Axes>",
      "image/png": "[encoded data removed]"
     },
     "metadata": {},
     "output_type": "display_data"
    }
   ],
   "source": [
    "# Now resample the DataFrame by month using 'M' as the frequency string\n",
    "monthly_mean = df['rating'].resample('ME').mean()\n",
    "\n",
    "# Plot the resulting monthly mean data\n",
    "monthly_mean.plot()\n",
    "\n",
    "plt.title('Monthly Mean Ratings')\n",
    "plt.xlabel('Month')\n",
    "plt.ylabel('Average Rating')\n",
    "plt.xticks(rotation=45)\n",
    "plt.tight_layout() # Adjust layout to fit the rotated x-tick labels\n",
    "plt.show()\n"
   ],
   "metadata": {
    "collapsed": false,
    "ExecuteTime": {
     "end_time": "2024-03-12T20:07:55.169536Z",
     "start_time": "2024-03-12T20:07:54.914849Z"
    }
   },
   "id": "3c3be74fccd41ec8",
   "execution_count": 156
  },
  {
   "cell_type": "markdown",
   "source": [
    "14. Save the cleaned and manipulated DataFrame to a new CSV file."
   ],
   "metadata": {
    "collapsed": false
   },
   "id": "abac3b5f08d4b2e9"
  },
  {
   "cell_type": "code",
   "outputs": [],
   "source": [
    "df.to_csv('cleaned_restaurant_reviews.csv', header=True)"
   ],
   "metadata": {
    "collapsed": false,
    "ExecuteTime": {
     "end_time": "2024-03-12T20:13:00.149658Z",
     "start_time": "2024-03-12T20:13:00.130699Z"
    }
   },
   "id": "9e92f27aa8bccb33",
   "execution_count": 159
  },
  {
   "cell_type": "markdown",
   "source": [
    "Push your Jupyter Notebook to GitHub.\n",
    "Submit the link to your GitHub repository in the LMS (don't forget to share the repo with me)."
   ],
   "metadata": {
    "collapsed": false
   },
   "id": "14e393b8ac37031f"
  }
 ],
 "metadata": {
  "kernelspec": {
   "display_name": "Python 3",
   "language": "python",
   "name": "python3"
  },
  "language_info": {
   "codemirror_mode": {
    "name": "ipython",
    "version": 2
   },
   "file_extension": ".py",
   "mimetype": "text/x-python",
   "name": "python",
   "nbconvert_exporter": "python",
   "pygments_lexer": "ipython2",
   "version": "2.7.6"
  }
 },
 "nbformat": 4,
 "nbformat_minor": 5
}
